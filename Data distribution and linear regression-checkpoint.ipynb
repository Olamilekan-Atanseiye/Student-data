{
 "cells": [
  {
   "cell_type": "code",
   "execution_count": 1,
   "metadata": {},
   "outputs": [],
   "source": [
    "data=[50,50,47,97,49,3,53,42,26,74,82,62,37,15,70,27,36,35,48,52,63,64]\n",
    "study_hours=[10,11.5,9,16,9.25,1,11.5,9,8.5,14.5,15.5,13.75,9,8,15.5,8,9,6,10,12,12.50,12]"
   ]
  },
  {
   "cell_type": "markdown",
   "metadata": {},
   "source": [
    "#####  Summary of the previous data"
   ]
  },
  {
   "cell_type": "code",
   "execution_count": 2,
   "metadata": {},
   "outputs": [
    {
     "name": "stdout",
     "output_type": "stream",
     "text": [
      "Minumun:3.00\n",
      "\n",
      "Mean:49.18\n",
      "\n",
      "Median:49.50\n",
      "\n",
      "Mode:50.00\n",
      "\n",
      "Maximun:97.00\n"
     ]
    },
    {
     "data": {
      "image/png": "[encoded data removed]",
      "text/plain": [
       "<Figure size 720x288 with 2 Axes>"
      ]
     },
     "metadata": {
      "needs_background": "light"
     },
     "output_type": "display_data"
    }
   ],
   "source": [
    "import numpy as np\n",
    "import matplotlib.pyplot as plt\n",
    "Grades=np.array(data)\n",
    "Study_Hours=np.array(study_hours)\n",
    "\n",
    "student_data=(Grades,Study_Hours)\n",
    "student_data\n",
    "\n",
    "import pandas as pd\n",
    "df_student=pd.DataFrame({'Name':['Dan','Tope','John','Nife','Tolu','Eni','Kay','Cate','Jan','Lukas','Joy','Emma','Olu','Tola','Ayo','Zep','Ezra','Tope','Tosin','Lekan','Oni','Hapi'],\n",
    "                        'Study_Hours':student_data[1],\n",
    "                        'Grades':student_data[0]})\n",
    "df_student\n",
    "passes=pd.Series(df_student['Grades']>=60)\n",
    "df_student=pd.concat([df_student,passes.rename('Performance')],axis=1)\n",
    "df_student['Performance']=df_student['Performance'].replace([False],['fail'])\n",
    "df_student['Performance']=df_student['Performance'].replace([True],['pass'])\n",
    "#print(df_student)\n",
    "\n",
    "def show_distribution(var_data):\n",
    "    min_val=var_data.min()\n",
    "    max_val=var_data.max()\n",
    "    mod_val=var_data.mode()[0]\n",
    "    med_val=var_data.median()\n",
    "    mean_val=var_data.mean()\n",
    "    \n",
    "    print('Minumun:{:.2f}\\n\\nMean:{:.2f}\\n\\nMedian:{:.2f}\\n\\nMode:{:.2f}\\n\\nMaximun:{:.2f}'.format(min_val,\n",
    "                                                                                         mean_val,\n",
    "                                                                                         med_val,\n",
    "                                                                                         mod_val,\n",
    "                                                                                         max_val))\n",
    "    \n",
    "\n",
    "    fig,ax=plt.subplots(2,1,figsize=(10,4))\n",
    "    ax[0].hist(var_data)\n",
    "    ax[0].set_ylabel('Frequency')\n",
    "    \n",
    "    ax[0].axvline(x=min_val,color='grey',linestyle='dashed',linewidth=2,label='Minimum')\n",
    "    ax[0].axvline(x=mean_val,color='yellow',linestyle='-.',linewidth=2)\n",
    "    ax[0].axvline(x=med_val,color='cyan',linestyle='-',linewidth=2.5)\n",
    "    ax[0].axvline(x=mod_val,color='k',linestyle='--',linewidth=2)\n",
    "    ax[0].axvline(x=max_val,color='red',linestyle='-.',linewidth=2)\n",
    "    \n",
    "    ax[1].boxplot(var_data,vert=False)\n",
    "    ax[1].set_xlabel('value')\n",
    "    fig.suptitle('Data Distribution')\n",
    "    \n",
    "    \n",
    "show_distribution(df_student['Grades'])\n",
    "    "
   ]
  },
  {
   "cell_type": "code",
   "execution_count": 3,
   "metadata": {},
   "outputs": [
    {
     "name": "stdout",
     "output_type": "stream",
     "text": [
      "Minumun:1.00\n",
      "\n",
      "Mean:10.52\n",
      "\n",
      "Median:10.00\n",
      "\n",
      "Mode:9.00\n",
      "\n",
      "Maximun:16.00\n"
     ]
    },
    {
     "data": {
      "image/png": "[encoded data removed]",
      "text/plain": [
       "<Figure size 720x288 with 2 Axes>"
      ]
     },
     "metadata": {
      "needs_background": "light"
     },
     "output_type": "display_data"
    }
   ],
   "source": [
    "col=df_student['Study_Hours']\n",
    "show_distribution(col)"
   ]
  },
  {
   "cell_type": "markdown",
   "metadata": {},
   "source": [
    "######  fom tha boxplot , it shows a outliers which is around value 1, but this might not be an outliers if we are dealing with a big data"
   ]
  },
  {
   "cell_type": "code",
   "execution_count": null,
   "metadata": {},
   "outputs": [],
   "source": []
  },
  {
   "cell_type": "code",
   "execution_count": null,
   "metadata": {},
   "outputs": [],
   "source": []
  },
  {
   "cell_type": "markdown",
   "metadata": {},
   "source": [
    "#####  Dealing with the outliers"
   ]
  },
  {
   "cell_type": "code",
   "execution_count": 4,
   "metadata": {},
   "outputs": [
    {
     "name": "stdout",
     "output_type": "stream",
     "text": [
      "Minumun:6.00\n",
      "\n",
      "Mean:10.98\n",
      "\n",
      "Median:10.00\n",
      "\n",
      "Mode:9.00\n",
      "\n",
      "Maximun:16.00\n"
     ]
    },
    {
     "data": {
      "image/png": "[encoded data removed]",
      "text/plain": [
       "<Figure size 720x288 with 2 Axes>"
      ]
     },
     "metadata": {
      "needs_background": "light"
     },
     "output_type": "display_data"
    }
   ],
   "source": [
    "col=df_student[df_student.Study_Hours>1]['Study_Hours']\n",
    "show_distribution(col)"
   ]
  },
  {
   "cell_type": "code",
   "execution_count": null,
   "metadata": {},
   "outputs": [],
   "source": []
  },
  {
   "cell_type": "markdown",
   "metadata": {},
   "source": [
    "######  Creating a function to get the density plot"
   ]
  },
  {
   "cell_type": "code",
   "execution_count": 5,
   "metadata": {},
   "outputs": [
    {
     "data": {
      "image/png": "[encoded data removed]",
      "text/plain": [
       "<Figure size 720x288 with 1 Axes>"
      ]
     },
     "metadata": {
      "needs_background": "light"
     },
     "output_type": "display_data"
    }
   ],
   "source": [
    "def show_density(var_data):\n",
    "    fig=plt.figure(figsize=(10,4))\n",
    "    \n",
    "    var_data.plot.density()\n",
    "    plt.title('Data Density')\n",
    "    plt.axvline(x=var_data.mean(),color='grey',linestyle='--',linewidth=2,label='Mean')\n",
    "    plt.axvline(x=var_data.median(),color='k',linestyle='-.',linewidth=2,label='Median')\n",
    "    plt.axvline(x=var_data.mode()[0],color='r',linestyle='--',linewidth=2,label='Mode')\n",
    "    plt.legend()\n",
    "show_density(col)"
   ]
  },
  {
   "cell_type": "code",
   "execution_count": null,
   "metadata": {},
   "outputs": [],
   "source": []
  },
  {
   "cell_type": "markdown",
   "metadata": {},
   "source": [
    "######  Performing  more statistic operation"
   ]
  },
  {
   "cell_type": "code",
   "execution_count": 6,
   "metadata": {},
   "outputs": [
    {
     "name": "stdout",
     "output_type": "stream",
     "text": [
      "Grades \n",
      "-Range:  94 \n",
      "-Variance: 472.53679653679666 \n",
      "-Std.Dev 21.73791150356438 \n",
      "\n",
      "Study_Hours \n",
      "-Range:  15.0 \n",
      "-Variance: 12.160173160173159 \n",
      "-Std.Dev 3.487143983286775 \n",
      "\n"
     ]
    }
   ],
   "source": [
    "for col_name in ['Grades','Study_Hours']:\n",
    "    col=df_student[col_name]\n",
    "    rng=col.max()-col.min()\n",
    "    var=col.var()\n",
    "    std=col.std()\n",
    "    print(col_name,'\\n-Range: ',rng,'\\n-Variance:',var,'\\n-Std.Dev',std,'\\n')\n",
    "    #print(\"\\n{}:\\n-Range:{:.2f}\\n-Variance:{:.2f}\\n-Std.Dev:{:.2f}\".format=(col_name,rng,var,std))\n",
    "                                                                             \n",
    "                                                                             "
   ]
  },
  {
   "cell_type": "code",
   "execution_count": null,
   "metadata": {},
   "outputs": [],
   "source": []
  },
  {
   "cell_type": "markdown",
   "metadata": {},
   "source": [
    "######  Getting the staticstic operation on the density plot using gaussian_kde in scipy"
   ]
  },
  {
   "cell_type": "code",
   "execution_count": 7,
   "metadata": {},
   "outputs": [
    {
     "data": {
      "image/png": "[encoded data removed]",
      "text/plain": [
       "<Figure size 432x288 with 1 Axes>"
      ]
     },
     "metadata": {
      "needs_background": "light"
     },
     "output_type": "display_data"
    }
   ],
   "source": [
    "import scipy.stats as stats\n",
    "\n",
    "col=df_student['Grades']\n",
    "density=stats.gaussian_kde(col)\n",
    "col.plot.density()\n",
    "s=col.std()\n",
    "m=col.mean()\n",
    "\n",
    "#line 1= mean-std,mean+std\n",
    "#annotate is used to show the label\n",
    "x1=[m-s,m+s]\n",
    "y1=density(x1)\n",
    "plt.plot(x1,y1,color='r',label='1st STD')\n",
    "plt.annotate('1 std(68.26%)',(x1[1],y1[1]))\n",
    "\n",
    "x2=[m-(s*2),m+(s*2)]\n",
    "y2=density(x2)\n",
    "plt.plot(x2,y2,color='k',label='2nd STD')\n",
    "plt.annotate('2 std(95.45%)',(x2[1],y2[1]))\n",
    "\n",
    "x3=[m-(s*3),m+(s*3)]\n",
    "y3=density(x3)\n",
    "plt.plot(x3,y3,color='b',label='3rd STD')\n",
    "plt.annotate('3 std(120%)',(x3[1],y3[1]))\n",
    "\n",
    "#to show the location of mean\n",
    "plt.axvline(col.mean(),color='grey',linestyle='-.',linewidth=1.5);\n",
    "plt.legend();"
   ]
  },
  {
   "cell_type": "code",
   "execution_count": null,
   "metadata": {},
   "outputs": [],
   "source": []
  },
  {
   "cell_type": "code",
   "execution_count": 8,
   "metadata": {},
   "outputs": [
    {
     "data": {
      "text/html": [
       "<div>\n",
       "<style scoped>\n",
       "    .dataframe tbody tr th:only-of-type {\n",
       "        vertical-align: middle;\n",
       "    }\n",
       "\n",
       "    .dataframe tbody tr th {\n",
       "        vertical-align: top;\n",
       "    }\n",
       "\n",
       "    .dataframe thead th {\n",
       "        text-align: right;\n",
       "    }\n",
       "</style>\n",
       "<table border=\"1\" class=\"dataframe\">\n",
       "  <thead>\n",
       "    <tr style=\"text-align: right;\">\n",
       "      <th></th>\n",
       "      <th>Study_Hours</th>\n",
       "      <th>Grades</th>\n",
       "    </tr>\n",
       "  </thead>\n",
       "  <tbody>\n",
       "    <tr>\n",
       "      <th>count</th>\n",
       "      <td>22.000000</td>\n",
       "      <td>22.000000</td>\n",
       "    </tr>\n",
       "    <tr>\n",
       "      <th>mean</th>\n",
       "      <td>10.522727</td>\n",
       "      <td>49.181818</td>\n",
       "    </tr>\n",
       "    <tr>\n",
       "      <th>std</th>\n",
       "      <td>3.487144</td>\n",
       "      <td>21.737912</td>\n",
       "    </tr>\n",
       "    <tr>\n",
       "      <th>min</th>\n",
       "      <td>1.000000</td>\n",
       "      <td>3.000000</td>\n",
       "    </tr>\n",
       "    <tr>\n",
       "      <th>25%</th>\n",
       "      <td>9.000000</td>\n",
       "      <td>36.250000</td>\n",
       "    </tr>\n",
       "    <tr>\n",
       "      <th>50%</th>\n",
       "      <td>10.000000</td>\n",
       "      <td>49.500000</td>\n",
       "    </tr>\n",
       "    <tr>\n",
       "      <th>75%</th>\n",
       "      <td>12.375000</td>\n",
       "      <td>62.750000</td>\n",
       "    </tr>\n",
       "    <tr>\n",
       "      <th>max</th>\n",
       "      <td>16.000000</td>\n",
       "      <td>97.000000</td>\n",
       "    </tr>\n",
       "  </tbody>\n",
       "</table>\n",
       "</div>"
      ],
      "text/plain": [
       "       Study_Hours     Grades\n",
       "count    22.000000  22.000000\n",
       "mean     10.522727  49.181818\n",
       "std       3.487144  21.737912\n",
       "min       1.000000   3.000000\n",
       "25%       9.000000  36.250000\n",
       "50%      10.000000  49.500000\n",
       "75%      12.375000  62.750000\n",
       "max      16.000000  97.000000"
      ]
     },
     "execution_count": 8,
     "metadata": {},
     "output_type": "execute_result"
    }
   ],
   "source": [
    "df_student.describe()"
   ]
  },
  {
   "cell_type": "code",
   "execution_count": 9,
   "metadata": {},
   "outputs": [
    {
     "data": {
      "text/html": [
       "<div>\n",
       "<style scoped>\n",
       "    .dataframe tbody tr th:only-of-type {\n",
       "        vertical-align: middle;\n",
       "    }\n",
       "\n",
       "    .dataframe tbody tr th {\n",
       "        vertical-align: top;\n",
       "    }\n",
       "\n",
       "    .dataframe thead th {\n",
       "        text-align: right;\n",
       "    }\n",
       "</style>\n",
       "<table border=\"1\" class=\"dataframe\">\n",
       "  <thead>\n",
       "    <tr style=\"text-align: right;\">\n",
       "      <th></th>\n",
       "      <th>Name</th>\n",
       "      <th>Study_Hours</th>\n",
       "      <th>Grades</th>\n",
       "      <th>Performance</th>\n",
       "    </tr>\n",
       "  </thead>\n",
       "  <tbody>\n",
       "    <tr>\n",
       "      <th>0</th>\n",
       "      <td>Dan</td>\n",
       "      <td>10.00</td>\n",
       "      <td>50</td>\n",
       "      <td>fail</td>\n",
       "    </tr>\n",
       "    <tr>\n",
       "      <th>1</th>\n",
       "      <td>Tope</td>\n",
       "      <td>11.50</td>\n",
       "      <td>50</td>\n",
       "      <td>fail</td>\n",
       "    </tr>\n",
       "    <tr>\n",
       "      <th>2</th>\n",
       "      <td>John</td>\n",
       "      <td>9.00</td>\n",
       "      <td>47</td>\n",
       "      <td>fail</td>\n",
       "    </tr>\n",
       "    <tr>\n",
       "      <th>3</th>\n",
       "      <td>Nife</td>\n",
       "      <td>16.00</td>\n",
       "      <td>97</td>\n",
       "      <td>pass</td>\n",
       "    </tr>\n",
       "    <tr>\n",
       "      <th>4</th>\n",
       "      <td>Tolu</td>\n",
       "      <td>9.25</td>\n",
       "      <td>49</td>\n",
       "      <td>fail</td>\n",
       "    </tr>\n",
       "    <tr>\n",
       "      <th>6</th>\n",
       "      <td>Kay</td>\n",
       "      <td>11.50</td>\n",
       "      <td>53</td>\n",
       "      <td>fail</td>\n",
       "    </tr>\n",
       "    <tr>\n",
       "      <th>7</th>\n",
       "      <td>Cate</td>\n",
       "      <td>9.00</td>\n",
       "      <td>42</td>\n",
       "      <td>fail</td>\n",
       "    </tr>\n",
       "    <tr>\n",
       "      <th>8</th>\n",
       "      <td>Jan</td>\n",
       "      <td>8.50</td>\n",
       "      <td>26</td>\n",
       "      <td>fail</td>\n",
       "    </tr>\n",
       "    <tr>\n",
       "      <th>9</th>\n",
       "      <td>Lukas</td>\n",
       "      <td>14.50</td>\n",
       "      <td>74</td>\n",
       "      <td>pass</td>\n",
       "    </tr>\n",
       "    <tr>\n",
       "      <th>10</th>\n",
       "      <td>Joy</td>\n",
       "      <td>15.50</td>\n",
       "      <td>82</td>\n",
       "      <td>pass</td>\n",
       "    </tr>\n",
       "    <tr>\n",
       "      <th>11</th>\n",
       "      <td>Emma</td>\n",
       "      <td>13.75</td>\n",
       "      <td>62</td>\n",
       "      <td>pass</td>\n",
       "    </tr>\n",
       "    <tr>\n",
       "      <th>12</th>\n",
       "      <td>Olu</td>\n",
       "      <td>9.00</td>\n",
       "      <td>37</td>\n",
       "      <td>fail</td>\n",
       "    </tr>\n",
       "    <tr>\n",
       "      <th>13</th>\n",
       "      <td>Tola</td>\n",
       "      <td>8.00</td>\n",
       "      <td>15</td>\n",
       "      <td>fail</td>\n",
       "    </tr>\n",
       "    <tr>\n",
       "      <th>14</th>\n",
       "      <td>Ayo</td>\n",
       "      <td>15.50</td>\n",
       "      <td>70</td>\n",
       "      <td>pass</td>\n",
       "    </tr>\n",
       "    <tr>\n",
       "      <th>15</th>\n",
       "      <td>Zep</td>\n",
       "      <td>8.00</td>\n",
       "      <td>27</td>\n",
       "      <td>fail</td>\n",
       "    </tr>\n",
       "    <tr>\n",
       "      <th>16</th>\n",
       "      <td>Ezra</td>\n",
       "      <td>9.00</td>\n",
       "      <td>36</td>\n",
       "      <td>fail</td>\n",
       "    </tr>\n",
       "    <tr>\n",
       "      <th>17</th>\n",
       "      <td>Tope</td>\n",
       "      <td>6.00</td>\n",
       "      <td>35</td>\n",
       "      <td>fail</td>\n",
       "    </tr>\n",
       "    <tr>\n",
       "      <th>18</th>\n",
       "      <td>Tosin</td>\n",
       "      <td>10.00</td>\n",
       "      <td>48</td>\n",
       "      <td>fail</td>\n",
       "    </tr>\n",
       "    <tr>\n",
       "      <th>19</th>\n",
       "      <td>Lekan</td>\n",
       "      <td>12.00</td>\n",
       "      <td>52</td>\n",
       "      <td>fail</td>\n",
       "    </tr>\n",
       "    <tr>\n",
       "      <th>20</th>\n",
       "      <td>Oni</td>\n",
       "      <td>12.50</td>\n",
       "      <td>63</td>\n",
       "      <td>pass</td>\n",
       "    </tr>\n",
       "    <tr>\n",
       "      <th>21</th>\n",
       "      <td>Hapi</td>\n",
       "      <td>12.00</td>\n",
       "      <td>64</td>\n",
       "      <td>pass</td>\n",
       "    </tr>\n",
       "  </tbody>\n",
       "</table>\n",
       "</div>"
      ],
      "text/plain": [
       "     Name  Study_Hours  Grades Performance\n",
       "0     Dan        10.00      50        fail\n",
       "1    Tope        11.50      50        fail\n",
       "2    John         9.00      47        fail\n",
       "3    Nife        16.00      97        pass\n",
       "4    Tolu         9.25      49        fail\n",
       "6     Kay        11.50      53        fail\n",
       "7    Cate         9.00      42        fail\n",
       "8     Jan         8.50      26        fail\n",
       "9   Lukas        14.50      74        pass\n",
       "10    Joy        15.50      82        pass\n",
       "11   Emma        13.75      62        pass\n",
       "12    Olu         9.00      37        fail\n",
       "13   Tola         8.00      15        fail\n",
       "14    Ayo        15.50      70        pass\n",
       "15    Zep         8.00      27        fail\n",
       "16   Ezra         9.00      36        fail\n",
       "17   Tope         6.00      35        fail\n",
       "18  Tosin        10.00      48        fail\n",
       "19  Lekan        12.00      52        fail\n",
       "20    Oni        12.50      63        pass\n",
       "21   Hapi        12.00      64        pass"
      ]
     },
     "execution_count": 9,
     "metadata": {},
     "output_type": "execute_result"
    }
   ],
   "source": [
    "df_sample=df_student[df_student['Study_Hours']>1]\n",
    "df_sample"
   ]
  },
  {
   "cell_type": "markdown",
   "metadata": {},
   "source": [
    "######  Comparing the values of grades and study hours"
   ]
  },
  {
   "cell_type": "code",
   "execution_count": 10,
   "metadata": {},
   "outputs": [
    {
     "data": {
      "image/png": "[encoded data removed]",
      "text/plain": [
       "<Figure size 720x288 with 1 Axes>"
      ]
     },
     "metadata": {
      "needs_background": "light"
     },
     "output_type": "display_data"
    }
   ],
   "source": [
    "df_sample.plot(x='Name',y=['Grades','Study_Hours'],kind='bar',figsize=(10,4));"
   ]
  },
  {
   "cell_type": "markdown",
   "metadata": {},
   "source": [
    "######   since the numeric values between the grades and study hours is in  wide range there is a need to perform standadization using MinMaxScaler from sklearn for easy reading of the graph"
   ]
  },
  {
   "cell_type": "code",
   "execution_count": 11,
   "metadata": {},
   "outputs": [
    {
     "data": {
      "text/plain": [
       "<matplotlib.axes._subplots.AxesSubplot at 0x98d8d48>"
      ]
     },
     "execution_count": 11,
     "metadata": {},
     "output_type": "execute_result"
    },
    {
     "data": {
      "image/png": "[encoded data removed]",
      "text/plain": [
       "<Figure size 576x288 with 1 Axes>"
      ]
     },
     "metadata": {
      "needs_background": "light"
     },
     "output_type": "display_data"
    }
   ],
   "source": [
    "from sklearn.preprocessing import MinMaxScaler\n",
    "scaler=MinMaxScaler()\n",
    "df_normalized=df_sample[['Name','Grades','Study_Hours']].copy()\n",
    "\n",
    "#numalized the numeric values\n",
    "df_normalized[['Grades','Study_Hours']]=scaler.fit_transform(df_normalized[['Grades','Study_Hours']])\n",
    "\n",
    "#ploting the numeric values\n",
    "df_normalized.plot(x='Name',y=['Grades','Study_Hours'],kind='bar',figsize=(8,4))"
   ]
  },
  {
   "cell_type": "markdown",
   "metadata": {},
   "source": [
    "######  to determine thge corrolation btw the grades and the study hous"
   ]
  },
  {
   "cell_type": "code",
   "execution_count": 12,
   "metadata": {},
   "outputs": [
    {
     "data": {
      "text/plain": [
       "0.9117666413789677"
      ]
     },
     "execution_count": 12,
     "metadata": {},
     "output_type": "execute_result"
    }
   ],
   "source": [
    "df_normalized.Grades.corr(df_normalized.Study_Hours)"
   ]
  },
  {
   "cell_type": "code",
   "execution_count": 13,
   "metadata": {},
   "outputs": [
    {
     "data": {
      "image/png": "[encoded data removed]",
      "text/plain": [
       "<Figure size 432x288 with 1 Axes>"
      ]
     },
     "metadata": {
      "needs_background": "light"
     },
     "output_type": "display_data"
    }
   ],
   "source": [
    "#you can also use a scatter plot to detwrmine the the corrlation\n",
    "df_sample.plot.scatter(title='Study hours vs Grades',x='Study_Hours',y='Grades');"
   ]
  },
  {
   "cell_type": "code",
   "execution_count": null,
   "metadata": {},
   "outputs": [],
   "source": []
  },
  {
   "cell_type": "code",
   "execution_count": null,
   "metadata": {},
   "outputs": [],
   "source": []
  },
  {
   "cell_type": "markdown",
   "metadata": {},
   "source": [
    "#### Performing a Logistic Regression"
   ]
  },
  {
   "cell_type": "code",
   "execution_count": null,
   "metadata": {},
   "outputs": [],
   "source": []
  },
  {
   "cell_type": "code",
   "execution_count": null,
   "metadata": {},
   "outputs": [],
   "source": []
  },
  {
   "cell_type": "code",
   "execution_count": 14,
   "metadata": {},
   "outputs": [],
   "source": [
    "x=df_sample['Study_Hours']\n",
    "y=df_sample['Grades']"
   ]
  },
  {
   "cell_type": "code",
   "execution_count": null,
   "metadata": {},
   "outputs": [],
   "source": []
  },
  {
   "cell_type": "code",
   "execution_count": 15,
   "metadata": {},
   "outputs": [
    {
     "name": "stdout",
     "output_type": "stream",
     "text": [
      "Slope:6.3134\n",
      "- Intercept:-17.9164\n"
     ]
    }
   ],
   "source": [
    "from scipy import stats\n",
    "df_regression=df_sample[['Grades','Study_Hours']].copy()\n",
    "\n",
    "#where lin reg =(mx+b)\n",
    "slop,intercept,rvalue,pvalue,stdero=stats.linregress(df_regression['Study_Hours'],df_regression['Grades'])\n",
    "print('Slope:{:.4f}\\n- Intercept:{:.4f}'.format(slop,intercept))"
   ]
  },
  {
   "cell_type": "code",
   "execution_count": 17,
   "metadata": {},
   "outputs": [
    {
     "name": "stdout",
     "output_type": "stream",
     "text": [
      "-Slope=6.3134\n",
      "-Intercept=-17.9164\n",
      "so.....\n",
      "-f(x)=6.3134 x +-17.9164\n"
     ]
    },
    {
     "data": {
      "image/png": "[encoded data removed]",
      "text/plain": [
       "<Figure size 432x288 with 1 Axes>"
      ]
     },
     "metadata": {
      "needs_background": "light"
     },
     "output_type": "display_data"
    }
   ],
   "source": [
    "import scipy as scipy\n",
    "slop,intercept,rvalue,pvalue,stdro=scipy.stats.linregress(x,y)\n",
    "print('-Slope={:.4f}\\n-Intercept={:.4f}'.format(slop,intercept))\n",
    "print('so.....\\n-f(x)={:.4f} x +{:.4f}'.format(slop,intercept))\n",
    "\n",
    "#using (m+xb) to calc f(x) for each x (study hours)values\n",
    "df_regression['fx']=(intercept*x)+slop\n",
    "\n",
    "#calc the error btw f(x) and the actual y(Grades)values\n",
    "df_regression['error']=df_regression['fx']-y\n",
    "\n",
    "\n",
    "\n",
    "\n",
    "#create a scatter plot of Grades vs Study hours\n",
    "df_regression.plot(x='Study_Hours',y='Grades',kind='scatter',label='Scatter plot')\n",
    "\n",
    "#plot line of regressionplt.plot(x,y)\n",
    "plt.plot(x,df_regression['fx'],color='r',label='Regression line');"
   ]
  },
  {
   "cell_type": "code",
   "execution_count": 18,
   "metadata": {},
   "outputs": [
    {
     "data": {
      "text/html": [
       "<div>\n",
       "<style scoped>\n",
       "    .dataframe tbody tr th:only-of-type {\n",
       "        vertical-align: middle;\n",
       "    }\n",
       "\n",
       "    .dataframe tbody tr th {\n",
       "        vertical-align: top;\n",
       "    }\n",
       "\n",
       "    .dataframe thead th {\n",
       "        text-align: right;\n",
       "    }\n",
       "</style>\n",
       "<table border=\"1\" class=\"dataframe\">\n",
       "  <thead>\n",
       "    <tr style=\"text-align: right;\">\n",
       "      <th></th>\n",
       "      <th>Study_Hours</th>\n",
       "      <th>Grades</th>\n",
       "      <th>fx</th>\n",
       "      <th>error</th>\n",
       "    </tr>\n",
       "  </thead>\n",
       "  <tbody>\n",
       "    <tr>\n",
       "      <th>0</th>\n",
       "      <td>10.00</td>\n",
       "      <td>50</td>\n",
       "      <td>-172.850674</td>\n",
       "      <td>-222.850674</td>\n",
       "    </tr>\n",
       "    <tr>\n",
       "      <th>1</th>\n",
       "      <td>11.50</td>\n",
       "      <td>50</td>\n",
       "      <td>-199.725289</td>\n",
       "      <td>-249.725289</td>\n",
       "    </tr>\n",
       "    <tr>\n",
       "      <th>2</th>\n",
       "      <td>9.00</td>\n",
       "      <td>47</td>\n",
       "      <td>-154.934264</td>\n",
       "      <td>-201.934264</td>\n",
       "    </tr>\n",
       "    <tr>\n",
       "      <th>3</th>\n",
       "      <td>16.00</td>\n",
       "      <td>97</td>\n",
       "      <td>-280.349133</td>\n",
       "      <td>-377.349133</td>\n",
       "    </tr>\n",
       "    <tr>\n",
       "      <th>4</th>\n",
       "      <td>9.25</td>\n",
       "      <td>49</td>\n",
       "      <td>-159.413366</td>\n",
       "      <td>-208.413366</td>\n",
       "    </tr>\n",
       "    <tr>\n",
       "      <th>6</th>\n",
       "      <td>11.50</td>\n",
       "      <td>53</td>\n",
       "      <td>-199.725289</td>\n",
       "      <td>-252.725289</td>\n",
       "    </tr>\n",
       "    <tr>\n",
       "      <th>7</th>\n",
       "      <td>9.00</td>\n",
       "      <td>42</td>\n",
       "      <td>-154.934264</td>\n",
       "      <td>-196.934264</td>\n",
       "    </tr>\n",
       "    <tr>\n",
       "      <th>8</th>\n",
       "      <td>8.50</td>\n",
       "      <td>26</td>\n",
       "      <td>-145.976059</td>\n",
       "      <td>-171.976059</td>\n",
       "    </tr>\n",
       "    <tr>\n",
       "      <th>9</th>\n",
       "      <td>14.50</td>\n",
       "      <td>74</td>\n",
       "      <td>-253.474518</td>\n",
       "      <td>-327.474518</td>\n",
       "    </tr>\n",
       "    <tr>\n",
       "      <th>10</th>\n",
       "      <td>15.50</td>\n",
       "      <td>82</td>\n",
       "      <td>-271.390928</td>\n",
       "      <td>-353.390928</td>\n",
       "    </tr>\n",
       "    <tr>\n",
       "      <th>11</th>\n",
       "      <td>13.75</td>\n",
       "      <td>62</td>\n",
       "      <td>-240.037211</td>\n",
       "      <td>-302.037211</td>\n",
       "    </tr>\n",
       "    <tr>\n",
       "      <th>12</th>\n",
       "      <td>9.00</td>\n",
       "      <td>37</td>\n",
       "      <td>-154.934264</td>\n",
       "      <td>-191.934264</td>\n",
       "    </tr>\n",
       "    <tr>\n",
       "      <th>13</th>\n",
       "      <td>8.00</td>\n",
       "      <td>15</td>\n",
       "      <td>-137.017854</td>\n",
       "      <td>-152.017854</td>\n",
       "    </tr>\n",
       "    <tr>\n",
       "      <th>14</th>\n",
       "      <td>15.50</td>\n",
       "      <td>70</td>\n",
       "      <td>-271.390928</td>\n",
       "      <td>-341.390928</td>\n",
       "    </tr>\n",
       "    <tr>\n",
       "      <th>15</th>\n",
       "      <td>8.00</td>\n",
       "      <td>27</td>\n",
       "      <td>-137.017854</td>\n",
       "      <td>-164.017854</td>\n",
       "    </tr>\n",
       "    <tr>\n",
       "      <th>16</th>\n",
       "      <td>9.00</td>\n",
       "      <td>36</td>\n",
       "      <td>-154.934264</td>\n",
       "      <td>-190.934264</td>\n",
       "    </tr>\n",
       "    <tr>\n",
       "      <th>17</th>\n",
       "      <td>6.00</td>\n",
       "      <td>35</td>\n",
       "      <td>-101.185034</td>\n",
       "      <td>-136.185034</td>\n",
       "    </tr>\n",
       "    <tr>\n",
       "      <th>18</th>\n",
       "      <td>10.00</td>\n",
       "      <td>48</td>\n",
       "      <td>-172.850674</td>\n",
       "      <td>-220.850674</td>\n",
       "    </tr>\n",
       "    <tr>\n",
       "      <th>19</th>\n",
       "      <td>12.00</td>\n",
       "      <td>52</td>\n",
       "      <td>-208.683494</td>\n",
       "      <td>-260.683494</td>\n",
       "    </tr>\n",
       "    <tr>\n",
       "      <th>20</th>\n",
       "      <td>12.50</td>\n",
       "      <td>63</td>\n",
       "      <td>-217.641699</td>\n",
       "      <td>-280.641699</td>\n",
       "    </tr>\n",
       "    <tr>\n",
       "      <th>21</th>\n",
       "      <td>12.00</td>\n",
       "      <td>64</td>\n",
       "      <td>-208.683494</td>\n",
       "      <td>-272.683494</td>\n",
       "    </tr>\n",
       "  </tbody>\n",
       "</table>\n",
       "</div>"
      ],
      "text/plain": [
       "    Study_Hours  Grades          fx       error\n",
       "0         10.00      50 -172.850674 -222.850674\n",
       "1         11.50      50 -199.725289 -249.725289\n",
       "2          9.00      47 -154.934264 -201.934264\n",
       "3         16.00      97 -280.349133 -377.349133\n",
       "4          9.25      49 -159.413366 -208.413366\n",
       "6         11.50      53 -199.725289 -252.725289\n",
       "7          9.00      42 -154.934264 -196.934264\n",
       "8          8.50      26 -145.976059 -171.976059\n",
       "9         14.50      74 -253.474518 -327.474518\n",
       "10        15.50      82 -271.390928 -353.390928\n",
       "11        13.75      62 -240.037211 -302.037211\n",
       "12         9.00      37 -154.934264 -191.934264\n",
       "13         8.00      15 -137.017854 -152.017854\n",
       "14        15.50      70 -271.390928 -341.390928\n",
       "15         8.00      27 -137.017854 -164.017854\n",
       "16         9.00      36 -154.934264 -190.934264\n",
       "17         6.00      35 -101.185034 -136.185034\n",
       "18        10.00      48 -172.850674 -220.850674\n",
       "19        12.00      52 -208.683494 -260.683494\n",
       "20        12.50      63 -217.641699 -280.641699\n",
       "21        12.00      64 -208.683494 -272.683494"
      ]
     },
     "execution_count": 18,
     "metadata": {},
     "output_type": "execute_result"
    }
   ],
   "source": [
    "#show the original x.y values,f(x) values and the error values\n",
    "df_regression[['Study_Hours','Grades','fx','error']]"
   ]
  },
  {
   "cell_type": "markdown",
   "metadata": {},
   "source": [
    "####  using thee regression coefficient  for prediction"
   ]
  },
  {
   "cell_type": "code",
   "execution_count": null,
   "metadata": {},
   "outputs": [],
   "source": []
  },
  {
   "cell_type": "code",
   "execution_count": 22,
   "metadata": {},
   "outputs": [
    {
     "name": "stdout",
     "output_type": "stream",
     "text": [
      "if you study for 14 per week, you will have: 70.4712\n"
     ]
    }
   ],
   "source": [
    "def f(x):\n",
    "    m=6.3134\n",
    "    b=-17.9164\n",
    "    return m*x+b\n",
    "study_time=14\n",
    "\n",
    "#get f(x) for study_time\n",
    "prediction=f(study_time)\n",
    "\n",
    "#Grade can't be less than 0 or more than 100\n",
    "expected_grade=max(0,min(100,prediction))\n",
    "print('if you study for',study_time, 'per week, you will have:',expected_grade)"
   ]
  },
  {
   "cell_type": "code",
   "execution_count": null,
   "metadata": {},
   "outputs": [],
   "source": []
  }
 ],
 "metadata": {
  "kernelspec": {
   "display_name": "Python 3",
   "language": "python",
   "name": "python3"
  },
  "language_info": {
   "codemirror_mode": {
    "name": "ipython",
    "version": 3
   },
   "file_extension": ".py",
   "mimetype": "text/x-python",
   "name": "python",
   "nbconvert_exporter": "python",
   "pygments_lexer": "ipython3",
   "version": "3.8.3"
  }
 },
 "nbformat": 4,
 "nbformat_minor": 4
}
