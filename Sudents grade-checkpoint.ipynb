{
 "cells": [
  {
   "cell_type": "code",
   "execution_count": 1,
   "metadata": {},
   "outputs": [
    {
     "name": "stdout",
     "output_type": "stream",
     "text": [
      "[50, 50, 47, 97, 49, 3, 53, 42, 26, 74, 82, 62, 37, 15, 70, 27, 36, 35, 48, 52, 63, 64]\n"
     ]
    }
   ],
   "source": [
    "data=[50,50,47,97,49,3,53,42,26,74,82,62,37,15,70,27,36,35,48,52,63,64]\n",
    "print(data)"
   ]
  },
  {
   "cell_type": "code",
   "execution_count": 2,
   "metadata": {},
   "outputs": [],
   "source": [
    "study_hours=[10,11.5,5.9,16,9.25,1,11,9,8.5,14.5,15.5,13.75,9,8,15,8,9,6,10,12,12.50,12]"
   ]
  },
  {
   "cell_type": "code",
   "execution_count": 3,
   "metadata": {},
   "outputs": [
    {
     "name": "stdout",
     "output_type": "stream",
     "text": [
      "[50 50 47 97 49  3 53 42 26 74 82 62 37 15 70 27 36 35 48 52 63 64]\n"
     ]
    }
   ],
   "source": [
    "import numpy as np\n",
    "grades=np.array(data)\n",
    "print(grades)"
   ]
  },
  {
   "cell_type": "code",
   "execution_count": 4,
   "metadata": {},
   "outputs": [
    {
     "name": "stdout",
     "output_type": "stream",
     "text": [
      "<class 'list'> *2 [50, 50, 47, 97, 49, 3, 53, 42, 26, 74, 82, 62, 37, 15, 70, 27, 36, 35, 48, 52, 63, 64, 50, 50, 47, 97, 49, 3, 53, 42, 26, 74, 82, 62, 37, 15, 70, 27, 36, 35, 48, 52, 63, 64]\n",
      "------------\n",
      "<class 'numpy.ndarray'> *2 [100 100  94 194  98   6 106  84  52 148 164 124  74  30 140  54  72  70\n",
      "  96 104 126 128]\n"
     ]
    }
   ],
   "source": [
    "print(type(data),'*2',data*2)\n",
    "print('------------')\n",
    "print(type(grades),'*2',grades*2)"
   ]
  },
  {
   "cell_type": "code",
   "execution_count": 5,
   "metadata": {},
   "outputs": [
    {
     "data": {
      "text/plain": [
       "(22,)"
      ]
     },
     "execution_count": 5,
     "metadata": {},
     "output_type": "execute_result"
    }
   ],
   "source": [
    "grades.shape"
   ]
  },
  {
   "cell_type": "code",
   "execution_count": 6,
   "metadata": {},
   "outputs": [
    {
     "data": {
      "text/plain": [
       "22"
      ]
     },
     "execution_count": 6,
     "metadata": {},
     "output_type": "execute_result"
    }
   ],
   "source": [
    "len(study_hours)"
   ]
  },
  {
   "cell_type": "code",
   "execution_count": 7,
   "metadata": {},
   "outputs": [
    {
     "data": {
      "text/plain": [
       "74"
      ]
     },
     "execution_count": 7,
     "metadata": {},
     "output_type": "execute_result"
    }
   ],
   "source": [
    "grades[9]"
   ]
  },
  {
   "cell_type": "code",
   "execution_count": 8,
   "metadata": {},
   "outputs": [
    {
     "data": {
      "text/plain": [
       "49.18181818181818"
      ]
     },
     "execution_count": 8,
     "metadata": {},
     "output_type": "execute_result"
    }
   ],
   "source": [
    "grades.mean()"
   ]
  },
  {
   "cell_type": "code",
   "execution_count": 9,
   "metadata": {},
   "outputs": [],
   "source": [
    "#study_hours=[10,11.5,5.9,16,9.25,1,11,9,8.5,14.5,15.5,13.75,9,8,15]"
   ]
  },
  {
   "cell_type": "code",
   "execution_count": 10,
   "metadata": {},
   "outputs": [
    {
     "data": {
      "text/plain": [
       "array([[10.  , 11.5 ,  5.9 , 16.  ,  9.25,  1.  , 11.  ,  9.  ,  8.5 ,\n",
       "        14.5 , 15.5 , 13.75,  9.  ,  8.  , 15.  ,  8.  ,  9.  ,  6.  ,\n",
       "        10.  , 12.  , 12.5 , 12.  ],\n",
       "       [50.  , 50.  , 47.  , 97.  , 49.  ,  3.  , 53.  , 42.  , 26.  ,\n",
       "        74.  , 82.  , 62.  , 37.  , 15.  , 70.  , 27.  , 36.  , 35.  ,\n",
       "        48.  , 52.  , 63.  , 64.  ]])"
      ]
     },
     "execution_count": 10,
     "metadata": {},
     "output_type": "execute_result"
    }
   ],
   "source": [
    "len(study_hours)\n",
    "\n",
    "student_data=np.array([study_hours,grades])\n",
    "student_data"
   ]
  },
  {
   "cell_type": "code",
   "execution_count": 11,
   "metadata": {},
   "outputs": [
    {
     "data": {
      "text/plain": [
       "(2, 22)"
      ]
     },
     "execution_count": 11,
     "metadata": {},
     "output_type": "execute_result"
    }
   ],
   "source": [
    "student_data.shape"
   ]
  },
  {
   "cell_type": "code",
   "execution_count": 12,
   "metadata": {},
   "outputs": [
    {
     "data": {
      "text/plain": [
       "(array([10.  , 11.5 ,  5.9 , 16.  ,  9.25,  1.  , 11.  ,  9.  ,  8.5 ,\n",
       "        14.5 , 15.5 , 13.75,  9.  ,  8.  , 15.  ,  8.  ,  9.  ,  6.  ,\n",
       "        10.  , 12.  , 12.5 , 12.  ]),\n",
       " [0])"
      ]
     },
     "execution_count": 12,
     "metadata": {},
     "output_type": "execute_result"
    }
   ],
   "source": [
    "student_data[0],[0]"
   ]
  },
  {
   "cell_type": "code",
   "execution_count": 13,
   "metadata": {},
   "outputs": [
    {
     "name": "stdout",
     "output_type": "stream",
     "text": [
      "Average study hours:10.336364\n",
      "Average grades:49.181818\n"
     ]
    }
   ],
   "source": [
    "avg_study=student_data[0].mean()\n",
    "avg_grade=student_data[1].mean()\n",
    "\n",
    "print('Average study hours:{:2f}\\nAverage grades:{:2f}'.format(avg_study,avg_grade))"
   ]
  },
  {
   "cell_type": "code",
   "execution_count": 14,
   "metadata": {},
   "outputs": [
    {
     "data": {
      "text/html": [
       "<div>\n",
       "<style scoped>\n",
       "    .dataframe tbody tr th:only-of-type {\n",
       "        vertical-align: middle;\n",
       "    }\n",
       "\n",
       "    .dataframe tbody tr th {\n",
       "        vertical-align: top;\n",
       "    }\n",
       "\n",
       "    .dataframe thead th {\n",
       "        text-align: right;\n",
       "    }\n",
       "</style>\n",
       "<table border=\"1\" class=\"dataframe\">\n",
       "  <thead>\n",
       "    <tr style=\"text-align: right;\">\n",
       "      <th></th>\n",
       "      <th>Name</th>\n",
       "      <th>Study_Hours</th>\n",
       "      <th>Grades</th>\n",
       "    </tr>\n",
       "  </thead>\n",
       "  <tbody>\n",
       "    <tr>\n",
       "      <th>0</th>\n",
       "      <td>Dan</td>\n",
       "      <td>10.00</td>\n",
       "      <td>50.0</td>\n",
       "    </tr>\n",
       "    <tr>\n",
       "      <th>1</th>\n",
       "      <td>Tope</td>\n",
       "      <td>11.50</td>\n",
       "      <td>50.0</td>\n",
       "    </tr>\n",
       "    <tr>\n",
       "      <th>2</th>\n",
       "      <td>John</td>\n",
       "      <td>5.90</td>\n",
       "      <td>47.0</td>\n",
       "    </tr>\n",
       "    <tr>\n",
       "      <th>3</th>\n",
       "      <td>Nife</td>\n",
       "      <td>16.00</td>\n",
       "      <td>97.0</td>\n",
       "    </tr>\n",
       "    <tr>\n",
       "      <th>4</th>\n",
       "      <td>Tolu</td>\n",
       "      <td>9.25</td>\n",
       "      <td>49.0</td>\n",
       "    </tr>\n",
       "    <tr>\n",
       "      <th>5</th>\n",
       "      <td>Eni</td>\n",
       "      <td>1.00</td>\n",
       "      <td>3.0</td>\n",
       "    </tr>\n",
       "    <tr>\n",
       "      <th>6</th>\n",
       "      <td>Kay</td>\n",
       "      <td>11.00</td>\n",
       "      <td>53.0</td>\n",
       "    </tr>\n",
       "    <tr>\n",
       "      <th>7</th>\n",
       "      <td>Cate</td>\n",
       "      <td>9.00</td>\n",
       "      <td>42.0</td>\n",
       "    </tr>\n",
       "    <tr>\n",
       "      <th>8</th>\n",
       "      <td>Jan</td>\n",
       "      <td>8.50</td>\n",
       "      <td>26.0</td>\n",
       "    </tr>\n",
       "    <tr>\n",
       "      <th>9</th>\n",
       "      <td>Lukas</td>\n",
       "      <td>14.50</td>\n",
       "      <td>74.0</td>\n",
       "    </tr>\n",
       "    <tr>\n",
       "      <th>10</th>\n",
       "      <td>Joy</td>\n",
       "      <td>15.50</td>\n",
       "      <td>82.0</td>\n",
       "    </tr>\n",
       "    <tr>\n",
       "      <th>11</th>\n",
       "      <td>Emma</td>\n",
       "      <td>13.75</td>\n",
       "      <td>62.0</td>\n",
       "    </tr>\n",
       "    <tr>\n",
       "      <th>12</th>\n",
       "      <td>Olu</td>\n",
       "      <td>9.00</td>\n",
       "      <td>37.0</td>\n",
       "    </tr>\n",
       "    <tr>\n",
       "      <th>13</th>\n",
       "      <td>Tola</td>\n",
       "      <td>8.00</td>\n",
       "      <td>15.0</td>\n",
       "    </tr>\n",
       "    <tr>\n",
       "      <th>14</th>\n",
       "      <td>Ayo</td>\n",
       "      <td>15.00</td>\n",
       "      <td>70.0</td>\n",
       "    </tr>\n",
       "    <tr>\n",
       "      <th>15</th>\n",
       "      <td>Zep</td>\n",
       "      <td>8.00</td>\n",
       "      <td>27.0</td>\n",
       "    </tr>\n",
       "    <tr>\n",
       "      <th>16</th>\n",
       "      <td>Ezra</td>\n",
       "      <td>9.00</td>\n",
       "      <td>36.0</td>\n",
       "    </tr>\n",
       "    <tr>\n",
       "      <th>17</th>\n",
       "      <td>Tope</td>\n",
       "      <td>6.00</td>\n",
       "      <td>35.0</td>\n",
       "    </tr>\n",
       "    <tr>\n",
       "      <th>18</th>\n",
       "      <td>Tosin</td>\n",
       "      <td>10.00</td>\n",
       "      <td>48.0</td>\n",
       "    </tr>\n",
       "    <tr>\n",
       "      <th>19</th>\n",
       "      <td>Lekan</td>\n",
       "      <td>12.00</td>\n",
       "      <td>52.0</td>\n",
       "    </tr>\n",
       "    <tr>\n",
       "      <th>20</th>\n",
       "      <td>Oni</td>\n",
       "      <td>12.50</td>\n",
       "      <td>63.0</td>\n",
       "    </tr>\n",
       "    <tr>\n",
       "      <th>21</th>\n",
       "      <td>Hapi</td>\n",
       "      <td>12.00</td>\n",
       "      <td>64.0</td>\n",
       "    </tr>\n",
       "  </tbody>\n",
       "</table>\n",
       "</div>"
      ],
      "text/plain": [
       "     Name  Study_Hours  Grades\n",
       "0     Dan        10.00    50.0\n",
       "1    Tope        11.50    50.0\n",
       "2    John         5.90    47.0\n",
       "3    Nife        16.00    97.0\n",
       "4    Tolu         9.25    49.0\n",
       "5     Eni         1.00     3.0\n",
       "6     Kay        11.00    53.0\n",
       "7    Cate         9.00    42.0\n",
       "8     Jan         8.50    26.0\n",
       "9   Lukas        14.50    74.0\n",
       "10    Joy        15.50    82.0\n",
       "11   Emma        13.75    62.0\n",
       "12    Olu         9.00    37.0\n",
       "13   Tola         8.00    15.0\n",
       "14    Ayo        15.00    70.0\n",
       "15    Zep         8.00    27.0\n",
       "16   Ezra         9.00    36.0\n",
       "17   Tope         6.00    35.0\n",
       "18  Tosin        10.00    48.0\n",
       "19  Lekan        12.00    52.0\n",
       "20    Oni        12.50    63.0\n",
       "21   Hapi        12.00    64.0"
      ]
     },
     "execution_count": 14,
     "metadata": {},
     "output_type": "execute_result"
    }
   ],
   "source": [
    "import pandas as pd\n",
    "df_student=pd.DataFrame({'Name':['Dan','Tope','John','Nife','Tolu','Eni','Kay','Cate','Jan','Lukas','Joy','Emma','Olu','Tola','Ayo','Zep','Ezra','Tope','Tosin','Lekan','Oni','Hapi'],\n",
    "                        'Study_Hours':student_data[0],\n",
    "                        'Grades':student_data[1]})\n",
    "df_student"
   ]
  },
  {
   "cell_type": "code",
   "execution_count": 15,
   "metadata": {},
   "outputs": [
    {
     "data": {
      "text/html": [
       "<div>\n",
       "<style scoped>\n",
       "    .dataframe tbody tr th:only-of-type {\n",
       "        vertical-align: middle;\n",
       "    }\n",
       "\n",
       "    .dataframe tbody tr th {\n",
       "        vertical-align: top;\n",
       "    }\n",
       "\n",
       "    .dataframe thead th {\n",
       "        text-align: right;\n",
       "    }\n",
       "</style>\n",
       "<table border=\"1\" class=\"dataframe\">\n",
       "  <thead>\n",
       "    <tr style=\"text-align: right;\">\n",
       "      <th></th>\n",
       "      <th>Name</th>\n",
       "      <th>Study_Hours</th>\n",
       "      <th>Grades</th>\n",
       "    </tr>\n",
       "  </thead>\n",
       "  <tbody>\n",
       "    <tr>\n",
       "      <th>0</th>\n",
       "      <td>Dan</td>\n",
       "      <td>10.00</td>\n",
       "      <td>50.0</td>\n",
       "    </tr>\n",
       "    <tr>\n",
       "      <th>1</th>\n",
       "      <td>Tope</td>\n",
       "      <td>11.50</td>\n",
       "      <td>50.0</td>\n",
       "    </tr>\n",
       "    <tr>\n",
       "      <th>2</th>\n",
       "      <td>John</td>\n",
       "      <td>5.90</td>\n",
       "      <td>47.0</td>\n",
       "    </tr>\n",
       "    <tr>\n",
       "      <th>3</th>\n",
       "      <td>Nife</td>\n",
       "      <td>16.00</td>\n",
       "      <td>97.0</td>\n",
       "    </tr>\n",
       "    <tr>\n",
       "      <th>4</th>\n",
       "      <td>Tolu</td>\n",
       "      <td>9.25</td>\n",
       "      <td>49.0</td>\n",
       "    </tr>\n",
       "  </tbody>\n",
       "</table>\n",
       "</div>"
      ],
      "text/plain": [
       "   Name  Study_Hours  Grades\n",
       "0   Dan        10.00    50.0\n",
       "1  Tope        11.50    50.0\n",
       "2  John         5.90    47.0\n",
       "3  Nife        16.00    97.0\n",
       "4  Tolu         9.25    49.0"
      ]
     },
     "execution_count": 15,
     "metadata": {},
     "output_type": "execute_result"
    }
   ],
   "source": [
    "df_student.iloc[0:5]"
   ]
  },
  {
   "cell_type": "code",
   "execution_count": 16,
   "metadata": {},
   "outputs": [
    {
     "data": {
      "text/html": [
       "<div>\n",
       "<style scoped>\n",
       "    .dataframe tbody tr th:only-of-type {\n",
       "        vertical-align: middle;\n",
       "    }\n",
       "\n",
       "    .dataframe tbody tr th {\n",
       "        vertical-align: top;\n",
       "    }\n",
       "\n",
       "    .dataframe thead th {\n",
       "        text-align: right;\n",
       "    }\n",
       "</style>\n",
       "<table border=\"1\" class=\"dataframe\">\n",
       "  <thead>\n",
       "    <tr style=\"text-align: right;\">\n",
       "      <th></th>\n",
       "      <th>Name</th>\n",
       "      <th>Study_Hours</th>\n",
       "      <th>Grades</th>\n",
       "    </tr>\n",
       "  </thead>\n",
       "  <tbody>\n",
       "    <tr>\n",
       "      <th>0</th>\n",
       "      <td>Dan</td>\n",
       "      <td>10.00</td>\n",
       "      <td>50.0</td>\n",
       "    </tr>\n",
       "    <tr>\n",
       "      <th>1</th>\n",
       "      <td>Tope</td>\n",
       "      <td>11.50</td>\n",
       "      <td>50.0</td>\n",
       "    </tr>\n",
       "    <tr>\n",
       "      <th>2</th>\n",
       "      <td>John</td>\n",
       "      <td>5.90</td>\n",
       "      <td>47.0</td>\n",
       "    </tr>\n",
       "    <tr>\n",
       "      <th>3</th>\n",
       "      <td>Nife</td>\n",
       "      <td>16.00</td>\n",
       "      <td>97.0</td>\n",
       "    </tr>\n",
       "    <tr>\n",
       "      <th>4</th>\n",
       "      <td>Tolu</td>\n",
       "      <td>9.25</td>\n",
       "      <td>49.0</td>\n",
       "    </tr>\n",
       "    <tr>\n",
       "      <th>5</th>\n",
       "      <td>Eni</td>\n",
       "      <td>1.00</td>\n",
       "      <td>3.0</td>\n",
       "    </tr>\n",
       "  </tbody>\n",
       "</table>\n",
       "</div>"
      ],
      "text/plain": [
       "   Name  Study_Hours  Grades\n",
       "0   Dan        10.00    50.0\n",
       "1  Tope        11.50    50.0\n",
       "2  John         5.90    47.0\n",
       "3  Nife        16.00    97.0\n",
       "4  Tolu         9.25    49.0\n",
       "5   Eni         1.00     3.0"
      ]
     },
     "execution_count": 16,
     "metadata": {},
     "output_type": "execute_result"
    }
   ],
   "source": [
    "df_student.loc[0:5]"
   ]
  },
  {
   "cell_type": "code",
   "execution_count": 17,
   "metadata": {},
   "outputs": [
    {
     "data": {
      "text/plain": [
       "0    50.0\n",
       "1    50.0\n",
       "2    47.0\n",
       "3    97.0\n",
       "4    49.0\n",
       "Name: Grades, dtype: float64"
      ]
     },
     "execution_count": 17,
     "metadata": {},
     "output_type": "execute_result"
    }
   ],
   "source": [
    "df_student.iloc[0:5,2]"
   ]
  },
  {
   "cell_type": "code",
   "execution_count": 18,
   "metadata": {},
   "outputs": [
    {
     "data": {
      "text/plain": [
       "Study_Hours    10\n",
       "Grades         50\n",
       "Name: 0, dtype: object"
      ]
     },
     "execution_count": 18,
     "metadata": {},
     "output_type": "execute_result"
    }
   ],
   "source": [
    "df_student.iloc[0,[1,2]]"
   ]
  },
  {
   "cell_type": "code",
   "execution_count": 19,
   "metadata": {},
   "outputs": [
    {
     "data": {
      "text/html": [
       "<div>\n",
       "<style scoped>\n",
       "    .dataframe tbody tr th:only-of-type {\n",
       "        vertical-align: middle;\n",
       "    }\n",
       "\n",
       "    .dataframe tbody tr th {\n",
       "        vertical-align: top;\n",
       "    }\n",
       "\n",
       "    .dataframe thead th {\n",
       "        text-align: right;\n",
       "    }\n",
       "</style>\n",
       "<table border=\"1\" class=\"dataframe\">\n",
       "  <thead>\n",
       "    <tr style=\"text-align: right;\">\n",
       "      <th></th>\n",
       "      <th>Study_Hours</th>\n",
       "      <th>Grades</th>\n",
       "    </tr>\n",
       "  </thead>\n",
       "  <tbody>\n",
       "    <tr>\n",
       "      <th>4</th>\n",
       "      <td>9.25</td>\n",
       "      <td>49.0</td>\n",
       "    </tr>\n",
       "    <tr>\n",
       "      <th>5</th>\n",
       "      <td>1.00</td>\n",
       "      <td>3.0</td>\n",
       "    </tr>\n",
       "    <tr>\n",
       "      <th>6</th>\n",
       "      <td>11.00</td>\n",
       "      <td>53.0</td>\n",
       "    </tr>\n",
       "    <tr>\n",
       "      <th>7</th>\n",
       "      <td>9.00</td>\n",
       "      <td>42.0</td>\n",
       "    </tr>\n",
       "  </tbody>\n",
       "</table>\n",
       "</div>"
      ],
      "text/plain": [
       "   Study_Hours  Grades\n",
       "4         9.25    49.0\n",
       "5         1.00     3.0\n",
       "6        11.00    53.0\n",
       "7         9.00    42.0"
      ]
     },
     "execution_count": 19,
     "metadata": {},
     "output_type": "execute_result"
    }
   ],
   "source": [
    "df_student.iloc[4:8,[1,2]]"
   ]
  },
  {
   "cell_type": "code",
   "execution_count": 20,
   "metadata": {},
   "outputs": [
    {
     "data": {
      "text/plain": [
       "50.0"
      ]
     },
     "execution_count": 20,
     "metadata": {},
     "output_type": "execute_result"
    }
   ],
   "source": [
    "df_student.loc[0,'Grades']"
   ]
  },
  {
   "cell_type": "code",
   "execution_count": 21,
   "metadata": {},
   "outputs": [
    {
     "data": {
      "text/html": [
       "<div>\n",
       "<style scoped>\n",
       "    .dataframe tbody tr th:only-of-type {\n",
       "        vertical-align: middle;\n",
       "    }\n",
       "\n",
       "    .dataframe tbody tr th {\n",
       "        vertical-align: top;\n",
       "    }\n",
       "\n",
       "    .dataframe thead th {\n",
       "        text-align: right;\n",
       "    }\n",
       "</style>\n",
       "<table border=\"1\" class=\"dataframe\">\n",
       "  <thead>\n",
       "    <tr style=\"text-align: right;\">\n",
       "      <th></th>\n",
       "      <th>Name</th>\n",
       "      <th>Study_Hours</th>\n",
       "      <th>Grades</th>\n",
       "    </tr>\n",
       "  </thead>\n",
       "  <tbody>\n",
       "    <tr>\n",
       "      <th>0</th>\n",
       "      <td>Dan</td>\n",
       "      <td>10.0</td>\n",
       "      <td>50.0</td>\n",
       "    </tr>\n",
       "  </tbody>\n",
       "</table>\n",
       "</div>"
      ],
      "text/plain": [
       "  Name  Study_Hours  Grades\n",
       "0  Dan         10.0    50.0"
      ]
     },
     "execution_count": 21,
     "metadata": {},
     "output_type": "execute_result"
    }
   ],
   "source": [
    "df_student.query('Name==\"Dan\"')"
   ]
  },
  {
   "cell_type": "code",
   "execution_count": 22,
   "metadata": {},
   "outputs": [
    {
     "data": {
      "text/html": [
       "<div>\n",
       "<style scoped>\n",
       "    .dataframe tbody tr th:only-of-type {\n",
       "        vertical-align: middle;\n",
       "    }\n",
       "\n",
       "    .dataframe tbody tr th {\n",
       "        vertical-align: top;\n",
       "    }\n",
       "\n",
       "    .dataframe thead th {\n",
       "        text-align: right;\n",
       "    }\n",
       "</style>\n",
       "<table border=\"1\" class=\"dataframe\">\n",
       "  <thead>\n",
       "    <tr style=\"text-align: right;\">\n",
       "      <th></th>\n",
       "      <th>Name</th>\n",
       "      <th>Study_Hours</th>\n",
       "      <th>Grades</th>\n",
       "      <th>Performance</th>\n",
       "    </tr>\n",
       "  </thead>\n",
       "  <tbody>\n",
       "    <tr>\n",
       "      <th>0</th>\n",
       "      <td>Dan</td>\n",
       "      <td>10.00</td>\n",
       "      <td>50.0</td>\n",
       "      <td>True</td>\n",
       "    </tr>\n",
       "    <tr>\n",
       "      <th>1</th>\n",
       "      <td>Tope</td>\n",
       "      <td>11.50</td>\n",
       "      <td>50.0</td>\n",
       "      <td>True</td>\n",
       "    </tr>\n",
       "    <tr>\n",
       "      <th>2</th>\n",
       "      <td>John</td>\n",
       "      <td>5.90</td>\n",
       "      <td>47.0</td>\n",
       "      <td>False</td>\n",
       "    </tr>\n",
       "    <tr>\n",
       "      <th>3</th>\n",
       "      <td>Nife</td>\n",
       "      <td>16.00</td>\n",
       "      <td>97.0</td>\n",
       "      <td>True</td>\n",
       "    </tr>\n",
       "    <tr>\n",
       "      <th>4</th>\n",
       "      <td>Tolu</td>\n",
       "      <td>9.25</td>\n",
       "      <td>49.0</td>\n",
       "      <td>False</td>\n",
       "    </tr>\n",
       "    <tr>\n",
       "      <th>5</th>\n",
       "      <td>Eni</td>\n",
       "      <td>1.00</td>\n",
       "      <td>3.0</td>\n",
       "      <td>False</td>\n",
       "    </tr>\n",
       "    <tr>\n",
       "      <th>6</th>\n",
       "      <td>Kay</td>\n",
       "      <td>11.00</td>\n",
       "      <td>53.0</td>\n",
       "      <td>True</td>\n",
       "    </tr>\n",
       "    <tr>\n",
       "      <th>7</th>\n",
       "      <td>Cate</td>\n",
       "      <td>9.00</td>\n",
       "      <td>42.0</td>\n",
       "      <td>False</td>\n",
       "    </tr>\n",
       "    <tr>\n",
       "      <th>8</th>\n",
       "      <td>Jan</td>\n",
       "      <td>8.50</td>\n",
       "      <td>26.0</td>\n",
       "      <td>False</td>\n",
       "    </tr>\n",
       "    <tr>\n",
       "      <th>9</th>\n",
       "      <td>Lukas</td>\n",
       "      <td>14.50</td>\n",
       "      <td>74.0</td>\n",
       "      <td>True</td>\n",
       "    </tr>\n",
       "    <tr>\n",
       "      <th>10</th>\n",
       "      <td>Joy</td>\n",
       "      <td>15.50</td>\n",
       "      <td>82.0</td>\n",
       "      <td>True</td>\n",
       "    </tr>\n",
       "    <tr>\n",
       "      <th>11</th>\n",
       "      <td>Emma</td>\n",
       "      <td>13.75</td>\n",
       "      <td>62.0</td>\n",
       "      <td>True</td>\n",
       "    </tr>\n",
       "    <tr>\n",
       "      <th>12</th>\n",
       "      <td>Olu</td>\n",
       "      <td>9.00</td>\n",
       "      <td>37.0</td>\n",
       "      <td>False</td>\n",
       "    </tr>\n",
       "    <tr>\n",
       "      <th>13</th>\n",
       "      <td>Tola</td>\n",
       "      <td>8.00</td>\n",
       "      <td>15.0</td>\n",
       "      <td>False</td>\n",
       "    </tr>\n",
       "    <tr>\n",
       "      <th>14</th>\n",
       "      <td>Ayo</td>\n",
       "      <td>15.00</td>\n",
       "      <td>70.0</td>\n",
       "      <td>True</td>\n",
       "    </tr>\n",
       "    <tr>\n",
       "      <th>15</th>\n",
       "      <td>Zep</td>\n",
       "      <td>8.00</td>\n",
       "      <td>27.0</td>\n",
       "      <td>False</td>\n",
       "    </tr>\n",
       "    <tr>\n",
       "      <th>16</th>\n",
       "      <td>Ezra</td>\n",
       "      <td>9.00</td>\n",
       "      <td>36.0</td>\n",
       "      <td>False</td>\n",
       "    </tr>\n",
       "    <tr>\n",
       "      <th>17</th>\n",
       "      <td>Tope</td>\n",
       "      <td>6.00</td>\n",
       "      <td>35.0</td>\n",
       "      <td>False</td>\n",
       "    </tr>\n",
       "    <tr>\n",
       "      <th>18</th>\n",
       "      <td>Tosin</td>\n",
       "      <td>10.00</td>\n",
       "      <td>48.0</td>\n",
       "      <td>False</td>\n",
       "    </tr>\n",
       "    <tr>\n",
       "      <th>19</th>\n",
       "      <td>Lekan</td>\n",
       "      <td>12.00</td>\n",
       "      <td>52.0</td>\n",
       "      <td>True</td>\n",
       "    </tr>\n",
       "    <tr>\n",
       "      <th>20</th>\n",
       "      <td>Oni</td>\n",
       "      <td>12.50</td>\n",
       "      <td>63.0</td>\n",
       "      <td>True</td>\n",
       "    </tr>\n",
       "    <tr>\n",
       "      <th>21</th>\n",
       "      <td>Hapi</td>\n",
       "      <td>12.00</td>\n",
       "      <td>64.0</td>\n",
       "      <td>True</td>\n",
       "    </tr>\n",
       "  </tbody>\n",
       "</table>\n",
       "</div>"
      ],
      "text/plain": [
       "     Name  Study_Hours  Grades  Performance\n",
       "0     Dan        10.00    50.0         True\n",
       "1    Tope        11.50    50.0         True\n",
       "2    John         5.90    47.0        False\n",
       "3    Nife        16.00    97.0         True\n",
       "4    Tolu         9.25    49.0        False\n",
       "5     Eni         1.00     3.0        False\n",
       "6     Kay        11.00    53.0         True\n",
       "7    Cate         9.00    42.0        False\n",
       "8     Jan         8.50    26.0        False\n",
       "9   Lukas        14.50    74.0         True\n",
       "10    Joy        15.50    82.0         True\n",
       "11   Emma        13.75    62.0         True\n",
       "12    Olu         9.00    37.0        False\n",
       "13   Tola         8.00    15.0        False\n",
       "14    Ayo        15.00    70.0         True\n",
       "15    Zep         8.00    27.0        False\n",
       "16   Ezra         9.00    36.0        False\n",
       "17   Tope         6.00    35.0        False\n",
       "18  Tosin        10.00    48.0        False\n",
       "19  Lekan        12.00    52.0         True\n",
       "20    Oni        12.50    63.0         True\n",
       "21   Hapi        12.00    64.0         True"
      ]
     },
     "execution_count": 22,
     "metadata": {},
     "output_type": "execute_result"
    }
   ],
   "source": [
    "df_student=df_student.dropna(axis=0,how='any')\n",
    "passes=pd.Series(df_student['Grades']>=50)\n",
    "df_student=pd.concat([df_student,passes.rename('Performance')],axis=1)\n",
    "df_student\n"
   ]
  },
  {
   "cell_type": "code",
   "execution_count": 23,
   "metadata": {
    "scrolled": true
   },
   "outputs": [],
   "source": [
    "#df_student['Performance']=df_student['Performance'].replace(([True],[False],['pass'],['fail']))\n",
    "df_student['Performance']=df_student['Performance'].replace([True],['PASS'])\n",
    "df_student['Performance']=df_student['Performance'].replace([False],['FAIL'])"
   ]
  },
  {
   "cell_type": "code",
   "execution_count": 24,
   "metadata": {},
   "outputs": [
    {
     "data": {
      "text/html": [
       "<div>\n",
       "<style scoped>\n",
       "    .dataframe tbody tr th:only-of-type {\n",
       "        vertical-align: middle;\n",
       "    }\n",
       "\n",
       "    .dataframe tbody tr th {\n",
       "        vertical-align: top;\n",
       "    }\n",
       "\n",
       "    .dataframe thead th {\n",
       "        text-align: right;\n",
       "    }\n",
       "</style>\n",
       "<table border=\"1\" class=\"dataframe\">\n",
       "  <thead>\n",
       "    <tr style=\"text-align: right;\">\n",
       "      <th></th>\n",
       "      <th>Name</th>\n",
       "      <th>Study_Hours</th>\n",
       "      <th>Grades</th>\n",
       "      <th>Performance</th>\n",
       "    </tr>\n",
       "  </thead>\n",
       "  <tbody>\n",
       "    <tr>\n",
       "      <th>0</th>\n",
       "      <td>Dan</td>\n",
       "      <td>10.00</td>\n",
       "      <td>50.0</td>\n",
       "      <td>PASS</td>\n",
       "    </tr>\n",
       "    <tr>\n",
       "      <th>1</th>\n",
       "      <td>Tope</td>\n",
       "      <td>11.50</td>\n",
       "      <td>50.0</td>\n",
       "      <td>PASS</td>\n",
       "    </tr>\n",
       "    <tr>\n",
       "      <th>2</th>\n",
       "      <td>John</td>\n",
       "      <td>5.90</td>\n",
       "      <td>47.0</td>\n",
       "      <td>FAIL</td>\n",
       "    </tr>\n",
       "    <tr>\n",
       "      <th>3</th>\n",
       "      <td>Nife</td>\n",
       "      <td>16.00</td>\n",
       "      <td>97.0</td>\n",
       "      <td>PASS</td>\n",
       "    </tr>\n",
       "    <tr>\n",
       "      <th>4</th>\n",
       "      <td>Tolu</td>\n",
       "      <td>9.25</td>\n",
       "      <td>49.0</td>\n",
       "      <td>FAIL</td>\n",
       "    </tr>\n",
       "    <tr>\n",
       "      <th>5</th>\n",
       "      <td>Eni</td>\n",
       "      <td>1.00</td>\n",
       "      <td>3.0</td>\n",
       "      <td>FAIL</td>\n",
       "    </tr>\n",
       "    <tr>\n",
       "      <th>6</th>\n",
       "      <td>Kay</td>\n",
       "      <td>11.00</td>\n",
       "      <td>53.0</td>\n",
       "      <td>PASS</td>\n",
       "    </tr>\n",
       "    <tr>\n",
       "      <th>7</th>\n",
       "      <td>Cate</td>\n",
       "      <td>9.00</td>\n",
       "      <td>42.0</td>\n",
       "      <td>FAIL</td>\n",
       "    </tr>\n",
       "    <tr>\n",
       "      <th>8</th>\n",
       "      <td>Jan</td>\n",
       "      <td>8.50</td>\n",
       "      <td>26.0</td>\n",
       "      <td>FAIL</td>\n",
       "    </tr>\n",
       "    <tr>\n",
       "      <th>9</th>\n",
       "      <td>Lukas</td>\n",
       "      <td>14.50</td>\n",
       "      <td>74.0</td>\n",
       "      <td>PASS</td>\n",
       "    </tr>\n",
       "    <tr>\n",
       "      <th>10</th>\n",
       "      <td>Joy</td>\n",
       "      <td>15.50</td>\n",
       "      <td>82.0</td>\n",
       "      <td>PASS</td>\n",
       "    </tr>\n",
       "    <tr>\n",
       "      <th>11</th>\n",
       "      <td>Emma</td>\n",
       "      <td>13.75</td>\n",
       "      <td>62.0</td>\n",
       "      <td>PASS</td>\n",
       "    </tr>\n",
       "    <tr>\n",
       "      <th>12</th>\n",
       "      <td>Olu</td>\n",
       "      <td>9.00</td>\n",
       "      <td>37.0</td>\n",
       "      <td>FAIL</td>\n",
       "    </tr>\n",
       "    <tr>\n",
       "      <th>13</th>\n",
       "      <td>Tola</td>\n",
       "      <td>8.00</td>\n",
       "      <td>15.0</td>\n",
       "      <td>FAIL</td>\n",
       "    </tr>\n",
       "    <tr>\n",
       "      <th>14</th>\n",
       "      <td>Ayo</td>\n",
       "      <td>15.00</td>\n",
       "      <td>70.0</td>\n",
       "      <td>PASS</td>\n",
       "    </tr>\n",
       "    <tr>\n",
       "      <th>15</th>\n",
       "      <td>Zep</td>\n",
       "      <td>8.00</td>\n",
       "      <td>27.0</td>\n",
       "      <td>FAIL</td>\n",
       "    </tr>\n",
       "    <tr>\n",
       "      <th>16</th>\n",
       "      <td>Ezra</td>\n",
       "      <td>9.00</td>\n",
       "      <td>36.0</td>\n",
       "      <td>FAIL</td>\n",
       "    </tr>\n",
       "    <tr>\n",
       "      <th>17</th>\n",
       "      <td>Tope</td>\n",
       "      <td>6.00</td>\n",
       "      <td>35.0</td>\n",
       "      <td>FAIL</td>\n",
       "    </tr>\n",
       "    <tr>\n",
       "      <th>18</th>\n",
       "      <td>Tosin</td>\n",
       "      <td>10.00</td>\n",
       "      <td>48.0</td>\n",
       "      <td>FAIL</td>\n",
       "    </tr>\n",
       "    <tr>\n",
       "      <th>19</th>\n",
       "      <td>Lekan</td>\n",
       "      <td>12.00</td>\n",
       "      <td>52.0</td>\n",
       "      <td>PASS</td>\n",
       "    </tr>\n",
       "    <tr>\n",
       "      <th>20</th>\n",
       "      <td>Oni</td>\n",
       "      <td>12.50</td>\n",
       "      <td>63.0</td>\n",
       "      <td>PASS</td>\n",
       "    </tr>\n",
       "    <tr>\n",
       "      <th>21</th>\n",
       "      <td>Hapi</td>\n",
       "      <td>12.00</td>\n",
       "      <td>64.0</td>\n",
       "      <td>PASS</td>\n",
       "    </tr>\n",
       "  </tbody>\n",
       "</table>\n",
       "</div>"
      ],
      "text/plain": [
       "     Name  Study_Hours  Grades Performance\n",
       "0     Dan        10.00    50.0        PASS\n",
       "1    Tope        11.50    50.0        PASS\n",
       "2    John         5.90    47.0        FAIL\n",
       "3    Nife        16.00    97.0        PASS\n",
       "4    Tolu         9.25    49.0        FAIL\n",
       "5     Eni         1.00     3.0        FAIL\n",
       "6     Kay        11.00    53.0        PASS\n",
       "7    Cate         9.00    42.0        FAIL\n",
       "8     Jan         8.50    26.0        FAIL\n",
       "9   Lukas        14.50    74.0        PASS\n",
       "10    Joy        15.50    82.0        PASS\n",
       "11   Emma        13.75    62.0        PASS\n",
       "12    Olu         9.00    37.0        FAIL\n",
       "13   Tola         8.00    15.0        FAIL\n",
       "14    Ayo        15.00    70.0        PASS\n",
       "15    Zep         8.00    27.0        FAIL\n",
       "16   Ezra         9.00    36.0        FAIL\n",
       "17   Tope         6.00    35.0        FAIL\n",
       "18  Tosin        10.00    48.0        FAIL\n",
       "19  Lekan        12.00    52.0        PASS\n",
       "20    Oni        12.50    63.0        PASS\n",
       "21   Hapi        12.00    64.0        PASS"
      ]
     },
     "execution_count": 24,
     "metadata": {},
     "output_type": "execute_result"
    }
   ],
   "source": [
    "df_student"
   ]
  },
  {
   "cell_type": "code",
   "execution_count": 25,
   "metadata": {},
   "outputs": [
    {
     "data": {
      "text/plain": [
       "<BarContainer object of 22 artists>"
      ]
     },
     "execution_count": 25,
     "metadata": {},
     "output_type": "execute_result"
    },
    {
     "data": {
      "image/png": "[encoded data removed]",
      "text/plain": [
       "<Figure size 432x288 with 1 Axes>"
      ]
     },
     "metadata": {
      "needs_background": "light"
     },
     "output_type": "display_data"
    }
   ],
   "source": [
    "%matplotlib inline\n",
    "import matplotlib.pyplot as plt\n",
    "plt.bar(x=df_student.Name,height=df_student.Grades)"
   ]
  },
  {
   "cell_type": "code",
   "execution_count": 26,
   "metadata": {},
   "outputs": [
    {
     "data": {
      "image/png": "[encoded data removed]",
      "text/plain": [
       "<Figure size 576x216 with 1 Axes>"
      ]
     },
     "metadata": {
      "needs_background": "light"
     },
     "output_type": "display_data"
    }
   ],
   "source": [
    "plt.figure(figsize=(8,3))\n",
    "plt.bar(x=df_student.Name,height=df_student.Grades,color='orange')\n",
    "\n",
    "#customize the chart\n",
    "plt.title('Students Grades')\n",
    "plt.xlabel('Students')\n",
    "plt.ylabel('Grades')\n",
    "plt.grid(color='#97a7a5',linestyle='--',linewidth=1,alpha=0.375)\n",
    "plt.xticks(rotation=60);\n"
   ]
  },
  {
   "cell_type": "code",
   "execution_count": 27,
   "metadata": {},
   "outputs": [
    {
     "ename": "SyntaxError",
     "evalue": "invalid syntax (<ipython-input-27-2430ff11e5cd>, line 6)",
     "output_type": "error",
     "traceback": [
      "\u001b[1;36m  File \u001b[1;32m\"<ipython-input-27-2430ff11e5cd>\"\u001b[1;36m, line \u001b[1;32m6\u001b[0m\n\u001b[1;33m    ax[0].bar(x=df_student.Name,height=df_student.Grades,color='orange')\u001b[0m\n\u001b[1;37m    ^\u001b[0m\n\u001b[1;31mSyntaxError\u001b[0m\u001b[1;31m:\u001b[0m invalid syntax\n"
     ]
    }
   ],
   "source": [
    "#creating a figure for 2 subplots (1row,2 columns)\n",
    "\n",
    "fig,ax=plt.subplots(1,3,figsize=(10,4)\n",
    "\n",
    "#for bar chat student VS Grades\n",
    "ax[0].bar(x=df_student.Name,height=df_student.Grades,color='orange')\n",
    "ax[0].set_title('Grades')\n",
    "ax[0].set_xticklabels(df_student.Name,rotation=90);\n",
    "\n",
    "#for pie chart, pass counts \n",
    "Performance_counts=df_student['Performance'].value_counts()\n",
    "ax[1].pie(Performance_counts,labels=Performance_counts);\n",
    "ax[1].set_title('Performance Grades')\n",
    "ax[1].legend(Performance_counts.keys().tolist())\n",
    "fig.subtitle='Students Data'"
   ]
  },
  {
   "cell_type": "code",
   "execution_count": 28,
   "metadata": {},
   "outputs": [
    {
     "data": {
      "text/plain": [
       "<matplotlib.axes._subplots.AxesSubplot at 0x9cb46a0>"
      ]
     },
     "execution_count": 28,
     "metadata": {},
     "output_type": "execute_result"
    },
    {
     "data": {
      "image/png": "[encoded data removed]",
      "text/plain": [
       "<Figure size 432x288 with 1 Axes>"
      ]
     },
     "metadata": {
      "needs_background": "light"
     },
     "output_type": "display_data"
    }
   ],
   "source": [
    "df_student.plot.bar(x='Name',y='Study_Hours',color='teal',figsize=(6,4))"
   ]
  },
  {
   "cell_type": "code",
   "execution_count": 29,
   "metadata": {},
   "outputs": [
    {
     "data": {
      "text/plain": [
       "(array([1., 1., 2., 3., 4., 4., 3., 2., 1., 1.]),\n",
       " array([ 3. , 12.4, 21.8, 31.2, 40.6, 50. , 59.4, 68.8, 78.2, 87.6, 97. ]),\n",
       " <a list of 10 Patch objects>)"
      ]
     },
     "execution_count": 29,
     "metadata": {},
     "output_type": "execute_result"
    },
    {
     "data": {
      "image/png": "[encoded data removed]",
      "text/plain": [
       "<Figure size 720x288 with 1 Axes>"
      ]
     },
     "metadata": {
      "needs_background": "light"
     },
     "output_type": "display_data"
    }
   ],
   "source": [
    "var_data=df_student['Grades']\n",
    "plt.figure(figsize=(10,4));\n",
    "\n",
    "plt.hist(var_data,bins=10)"
   ]
  },
  {
   "cell_type": "code",
   "execution_count": 30,
   "metadata": {},
   "outputs": [
    {
     "name": "stdout",
     "output_type": "stream",
     "text": [
      "Minumun:3.00\n",
      "\n",
      "Mean:49.18\n",
      "\n",
      "Median:49.50\n",
      "\n",
      "Mode:50.00\n",
      "\n",
      "Maximun:97.00\n"
     ]
    },
    {
     "data": {
      "text/plain": [
       "Text(0, 0.5, 'Frequenecy')"
      ]
     },
     "execution_count": 30,
     "metadata": {},
     "output_type": "execute_result"
    },
    {
     "data": {
      "image/png": "[encoded data removed]",
      "text/plain": [
       "<Figure size 720x288 with 1 Axes>"
      ]
     },
     "metadata": {
      "needs_background": "light"
     },
     "output_type": "display_data"
    }
   ],
   "source": [
    "plt.figure(figsize=(10,4))\n",
    "var=df_student['Grades']\n",
    "min_val=var.min()\n",
    "max_val=var.max()\n",
    "mean_val=var.mean()\n",
    "med_val=var.median()\n",
    "mod_val=var.mode()[0]\n",
    "print('Minumun:{:.2f}\\n\\nMean:{:.2f}\\n\\nMedian:{:.2f}\\n\\nMode:{:.2f}\\n\\nMaximun:{:.2f}'.format(min_val,\n",
    "                                                                                     mean_val,\n",
    "                                                                                     med_val,\n",
    "                                                                                     mod_val,\n",
    "                                                                                     max_val))\n",
    "plt.hist(var);\n",
    "plt.axvline(x=min_val,color='grey',linestyle='dashed',linewidth=2)\n",
    "plt.axvline(x=mean_val,color='yellow',linestyle='-.',linewidth=2)\n",
    "plt.axvline(x=med_val,color='cyan',linestyle='-',linewidth=2.5)\n",
    "plt.axvline(x=mod_val,color='k',linestyle='--',linewidth=2)\n",
    "plt.axvline(x=max_val,color='red',linestyle='-.',linewidth=2)\n",
    "\n",
    "plt.title('Data Distribution')\n",
    "plt.xlabel('Values')\n",
    "plt.ylabel('Frequenecy')"
   ]
  },
  {
   "cell_type": "code",
   "execution_count": 31,
   "metadata": {},
   "outputs": [
    {
     "data": {
      "text/plain": [
       "Text(0.5, 1.0, 'Data Distribution')"
      ]
     },
     "execution_count": 31,
     "metadata": {},
     "output_type": "execute_result"
    },
    {
     "data": {
      "image/png": "[encoded data removed]",
      "text/plain": [
       "<Figure size 720x288 with 1 Axes>"
      ]
     },
     "metadata": {
      "needs_background": "light"
     },
     "output_type": "display_data"
    }
   ],
   "source": [
    "plt.figure(figsize=(10,4))\n",
    "plt.boxplot(var);\n",
    "plt.title('Data Distribution')"
   ]
  },
  {
   "cell_type": "code",
   "execution_count": 32,
   "metadata": {},
   "outputs": [
    {
     "data": {
      "text/plain": [
       "<matplotlib.lines.Line2D at 0xad8b5f8>"
      ]
     },
     "execution_count": 32,
     "metadata": {},
     "output_type": "execute_result"
    },
    {
     "data": {
      "image/png": "[encoded data removed]",
      "text/plain": [
       "<Figure size 720x288 with 1 Axes>"
      ]
     },
     "metadata": {
      "needs_background": "light"
     },
     "output_type": "display_data"
    }
   ],
   "source": [
    "#def distribution(var_data):\n",
    "plt.figure(figsize=(10,4))\n",
    "var.plot.density()\n",
    "plt.axvline(x=med_val,color='cyan',linestyle='-.',linewidth=3)\n",
    "plt.axvline(x=mean_val,color='yellow',linestyle='-.',linewidth=2)\n",
    "plt.axvline(x=mod_val,color='k',linestyle='--',linewidth=2)\n"
   ]
  },
  {
   "cell_type": "code",
   "execution_count": 33,
   "metadata": {},
   "outputs": [
    {
     "data": {
      "text/html": [
       "<div>\n",
       "<style scoped>\n",
       "    .dataframe tbody tr th:only-of-type {\n",
       "        vertical-align: middle;\n",
       "    }\n",
       "\n",
       "    .dataframe tbody tr th {\n",
       "        vertical-align: top;\n",
       "    }\n",
       "\n",
       "    .dataframe thead th {\n",
       "        text-align: right;\n",
       "    }\n",
       "</style>\n",
       "<table border=\"1\" class=\"dataframe\">\n",
       "  <thead>\n",
       "    <tr style=\"text-align: right;\">\n",
       "      <th></th>\n",
       "      <th>Name</th>\n",
       "      <th>Study_Hours</th>\n",
       "      <th>Grades</th>\n",
       "      <th>Performance</th>\n",
       "    </tr>\n",
       "  </thead>\n",
       "  <tbody>\n",
       "    <tr>\n",
       "      <th>0</th>\n",
       "      <td>Dan</td>\n",
       "      <td>10.00</td>\n",
       "      <td>50.0</td>\n",
       "      <td>PASS</td>\n",
       "    </tr>\n",
       "    <tr>\n",
       "      <th>1</th>\n",
       "      <td>Tope</td>\n",
       "      <td>11.50</td>\n",
       "      <td>50.0</td>\n",
       "      <td>PASS</td>\n",
       "    </tr>\n",
       "    <tr>\n",
       "      <th>2</th>\n",
       "      <td>John</td>\n",
       "      <td>5.90</td>\n",
       "      <td>47.0</td>\n",
       "      <td>FAIL</td>\n",
       "    </tr>\n",
       "    <tr>\n",
       "      <th>3</th>\n",
       "      <td>Nife</td>\n",
       "      <td>16.00</td>\n",
       "      <td>97.0</td>\n",
       "      <td>PASS</td>\n",
       "    </tr>\n",
       "    <tr>\n",
       "      <th>4</th>\n",
       "      <td>Tolu</td>\n",
       "      <td>9.25</td>\n",
       "      <td>49.0</td>\n",
       "      <td>FAIL</td>\n",
       "    </tr>\n",
       "    <tr>\n",
       "      <th>5</th>\n",
       "      <td>Eni</td>\n",
       "      <td>1.00</td>\n",
       "      <td>3.0</td>\n",
       "      <td>FAIL</td>\n",
       "    </tr>\n",
       "    <tr>\n",
       "      <th>6</th>\n",
       "      <td>Kay</td>\n",
       "      <td>11.00</td>\n",
       "      <td>53.0</td>\n",
       "      <td>PASS</td>\n",
       "    </tr>\n",
       "    <tr>\n",
       "      <th>7</th>\n",
       "      <td>Cate</td>\n",
       "      <td>9.00</td>\n",
       "      <td>42.0</td>\n",
       "      <td>FAIL</td>\n",
       "    </tr>\n",
       "    <tr>\n",
       "      <th>8</th>\n",
       "      <td>Jan</td>\n",
       "      <td>8.50</td>\n",
       "      <td>26.0</td>\n",
       "      <td>FAIL</td>\n",
       "    </tr>\n",
       "    <tr>\n",
       "      <th>9</th>\n",
       "      <td>Lukas</td>\n",
       "      <td>14.50</td>\n",
       "      <td>74.0</td>\n",
       "      <td>PASS</td>\n",
       "    </tr>\n",
       "    <tr>\n",
       "      <th>10</th>\n",
       "      <td>Joy</td>\n",
       "      <td>15.50</td>\n",
       "      <td>82.0</td>\n",
       "      <td>PASS</td>\n",
       "    </tr>\n",
       "    <tr>\n",
       "      <th>11</th>\n",
       "      <td>Emma</td>\n",
       "      <td>13.75</td>\n",
       "      <td>62.0</td>\n",
       "      <td>PASS</td>\n",
       "    </tr>\n",
       "    <tr>\n",
       "      <th>12</th>\n",
       "      <td>Olu</td>\n",
       "      <td>9.00</td>\n",
       "      <td>37.0</td>\n",
       "      <td>FAIL</td>\n",
       "    </tr>\n",
       "    <tr>\n",
       "      <th>13</th>\n",
       "      <td>Tola</td>\n",
       "      <td>8.00</td>\n",
       "      <td>15.0</td>\n",
       "      <td>FAIL</td>\n",
       "    </tr>\n",
       "    <tr>\n",
       "      <th>14</th>\n",
       "      <td>Ayo</td>\n",
       "      <td>15.00</td>\n",
       "      <td>70.0</td>\n",
       "      <td>PASS</td>\n",
       "    </tr>\n",
       "    <tr>\n",
       "      <th>15</th>\n",
       "      <td>Zep</td>\n",
       "      <td>8.00</td>\n",
       "      <td>27.0</td>\n",
       "      <td>FAIL</td>\n",
       "    </tr>\n",
       "    <tr>\n",
       "      <th>16</th>\n",
       "      <td>Ezra</td>\n",
       "      <td>9.00</td>\n",
       "      <td>36.0</td>\n",
       "      <td>FAIL</td>\n",
       "    </tr>\n",
       "    <tr>\n",
       "      <th>17</th>\n",
       "      <td>Tope</td>\n",
       "      <td>6.00</td>\n",
       "      <td>35.0</td>\n",
       "      <td>FAIL</td>\n",
       "    </tr>\n",
       "    <tr>\n",
       "      <th>18</th>\n",
       "      <td>Tosin</td>\n",
       "      <td>10.00</td>\n",
       "      <td>48.0</td>\n",
       "      <td>FAIL</td>\n",
       "    </tr>\n",
       "    <tr>\n",
       "      <th>19</th>\n",
       "      <td>Lekan</td>\n",
       "      <td>12.00</td>\n",
       "      <td>52.0</td>\n",
       "      <td>PASS</td>\n",
       "    </tr>\n",
       "    <tr>\n",
       "      <th>20</th>\n",
       "      <td>Oni</td>\n",
       "      <td>12.50</td>\n",
       "      <td>63.0</td>\n",
       "      <td>PASS</td>\n",
       "    </tr>\n",
       "    <tr>\n",
       "      <th>21</th>\n",
       "      <td>Hapi</td>\n",
       "      <td>12.00</td>\n",
       "      <td>64.0</td>\n",
       "      <td>PASS</td>\n",
       "    </tr>\n",
       "  </tbody>\n",
       "</table>\n",
       "</div>"
      ],
      "text/plain": [
       "     Name  Study_Hours  Grades Performance\n",
       "0     Dan        10.00    50.0        PASS\n",
       "1    Tope        11.50    50.0        PASS\n",
       "2    John         5.90    47.0        FAIL\n",
       "3    Nife        16.00    97.0        PASS\n",
       "4    Tolu         9.25    49.0        FAIL\n",
       "5     Eni         1.00     3.0        FAIL\n",
       "6     Kay        11.00    53.0        PASS\n",
       "7    Cate         9.00    42.0        FAIL\n",
       "8     Jan         8.50    26.0        FAIL\n",
       "9   Lukas        14.50    74.0        PASS\n",
       "10    Joy        15.50    82.0        PASS\n",
       "11   Emma        13.75    62.0        PASS\n",
       "12    Olu         9.00    37.0        FAIL\n",
       "13   Tola         8.00    15.0        FAIL\n",
       "14    Ayo        15.00    70.0        PASS\n",
       "15    Zep         8.00    27.0        FAIL\n",
       "16   Ezra         9.00    36.0        FAIL\n",
       "17   Tope         6.00    35.0        FAIL\n",
       "18  Tosin        10.00    48.0        FAIL\n",
       "19  Lekan        12.00    52.0        PASS\n",
       "20    Oni        12.50    63.0        PASS\n",
       "21   Hapi        12.00    64.0        PASS"
      ]
     },
     "execution_count": 33,
     "metadata": {},
     "output_type": "execute_result"
    }
   ],
   "source": [
    "df_student"
   ]
  },
  {
   "cell_type": "code",
   "execution_count": 34,
   "metadata": {},
   "outputs": [],
   "source": [
    "col=df_student['Study_Hours']\n"
   ]
  },
  {
   "cell_type": "code",
   "execution_count": 41,
   "metadata": {},
   "outputs": [
    {
     "name": "stdout",
     "output_type": "stream",
     "text": [
      "Minumun:3.00\n",
      "\n",
      "Mean:49.18\n",
      "\n",
      "Median:49.50\n",
      "\n",
      "Mode:50.00\n",
      "\n",
      "Maximun:97.00\n"
     ]
    },
    {
     "data": {
      "image/png": "[encoded data removed]",
      "text/plain": [
       "<Figure size 720x288 with 2 Axes>"
      ]
     },
     "metadata": {
      "needs_background": "light"
     },
     "output_type": "display_data"
    }
   ],
   "source": [
    "def show_distribution(var_data):\n",
    "    min_val=var.min()\n",
    "    max_val=var.max()\n",
    "    mean_val=var.mean()\n",
    "    med_val=var.median()\n",
    "    mod_val=var.mode()[0]\n",
    "    print('Minumun:{:.2f}\\n\\nMean:{:.2f}\\n\\nMedian:{:.2f}\\n\\nMode:{:.2f}\\n\\nMaximun:{:.2f}'.format(min_val,\n",
    "                                                                                         mean_val,\n",
    "                                                                                         med_val,\n",
    "                                                                                         mod_val,\n",
    "                                                                                         max_val))\n",
    "    fig,ax=plt.subplots(2,1,figsize=(10,4))\n",
    "    ax[0].hist(var_data)\n",
    "    ax[0].set_ylabel('Frequency')\n",
    "\n",
    "\n",
    "    ax[0].axvline(x=min_val,color='grey',linestyle='dashed',linewidth=2)\n",
    "    ax[0].axvline(x=mean_val,color='yellow',linestyle='-.',linewidth=2)\n",
    "    ax[0].axvline(x=med_val,color='cyan',linestyle='-',linewidth=2.5)\n",
    "    ax[0].axvline(x=mod_val,color='k',linestyle='--',linewidth=2)\n",
    "    ax[0].axvline(x=max_val,color='red',linestyle='-.',linewidth=2)\n",
    "\n",
    "\n",
    "    ax[1].boxplot(var_data,vert=False)\n",
    "    ax[1].set_xlabel('value')\n",
    "    fig.suptitle('Data Distribution')\n",
    "show_distribution(df_student['Grades'])    "
   ]
  },
  {
   "cell_type": "code",
   "execution_count": 45,
   "metadata": {},
   "outputs": [],
   "source": [
    "cols=df_student['Study_Hours']"
   ]
  },
  {
   "cell_type": "code",
   "execution_count": 46,
   "metadata": {},
   "outputs": [
    {
     "name": "stdout",
     "output_type": "stream",
     "text": [
      "Minumun:3.00\n",
      "\n",
      "Mean:49.18\n",
      "\n",
      "Median:49.50\n",
      "\n",
      "Mode:50.00\n",
      "\n",
      "Maximun:97.00\n"
     ]
    },
    {
     "data": {
      "image/png": "[encoded data removed]",
      "text/plain": [
       "<Figure size 720x288 with 2 Axes>"
      ]
     },
     "metadata": {
      "needs_background": "light"
     },
     "output_type": "display_data"
    }
   ],
   "source": [
    "show_distribution([col])"
   ]
  },
  {
   "cell_type": "code",
   "execution_count": 43,
   "metadata": {},
   "outputs": [
    {
     "data": {
      "text/plain": [
       "49.18181818181818"
      ]
     },
     "execution_count": 43,
     "metadata": {},
     "output_type": "execute_result"
    }
   ],
   "source": []
  },
  {
   "cell_type": "code",
   "execution_count": null,
   "metadata": {},
   "outputs": [],
   "source": []
  }
 ],
 "metadata": {
  "kernelspec": {
   "display_name": "Python 3",
   "language": "python",
   "name": "python3"
  },
  "language_info": {
   "codemirror_mode": {
    "name": "ipython",
    "version": 3
   },
   "file_extension": ".py",
   "mimetype": "text/x-python",
   "name": "python",
   "nbconvert_exporter": "python",
   "pygments_lexer": "ipython3",
   "version": "3.8.3"
  }
 },
 "nbformat": 4,
 "nbformat_minor": 4
}
